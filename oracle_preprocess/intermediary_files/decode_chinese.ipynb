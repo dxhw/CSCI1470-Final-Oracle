{
 "cells": [
  {
   "cell_type": "code",
   "execution_count": 23,
   "metadata": {},
   "outputs": [
    {
     "data": {
      "text/plain": [
       "'../HUST-OBS/deciphered\\\\0001\\\\G_0001_明992合8127.png'"
      ]
     },
     "execution_count": 23,
     "metadata": {},
     "output_type": "execute_result"
    }
   ],
   "source": [
    "import ast\n",
    "\n",
    "path = \"../HUST-OBS/deciphered\\\\0001\\\\G_0001_\\u5f8c2.36.5\\u540833075\\ud840\\udca4\\u6b77\\u9593.png\"\n",
    "path = \"../HUST-OBS/deciphered\\\\0001\\\\G_0001_\\u63872.151\\u540823715\\u51fa\\u7d44.png\"\n",
    "path = \"../HUST-OBS/deciphered\\\\0001\\\\G_0001_\\u660e992\\u54088127.png\"\n",
    "idx = 35\n",
    "s = path[idx:len(path)]\n",
    "s.encode('utf-8', 'replace').decode('utf-8')\n",
    "\n",
    "ps = path[0:idx] + s\n",
    "ps"
   ]
  }
 ],
 "metadata": {
  "kernelspec": {
   "display_name": "Python 3.10.13 ('csci1470')",
   "language": "python",
   "name": "python3"
  },
  "language_info": {
   "codemirror_mode": {
    "name": "ipython",
    "version": 3
   },
   "file_extension": ".py",
   "mimetype": "text/x-python",
   "name": "python",
   "nbconvert_exporter": "python",
   "pygments_lexer": "ipython3",
   "version": "3.10.13"
  },
  "orig_nbformat": 4,
  "vscode": {
   "interpreter": {
    "hash": "9a7e07fcbaf4af9252e1c87bf108cb597e6cdfc24e4948d18c80253779dac4ac"
   }
  }
 },
 "nbformat": 4,
 "nbformat_minor": 2
}
